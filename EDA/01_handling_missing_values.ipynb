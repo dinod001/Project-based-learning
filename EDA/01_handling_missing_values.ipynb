{
 "cells": [
  {
   "cell_type": "markdown",
   "id": "0510e871",
   "metadata": {},
   "source": [
    "### 1. Import Dependecies"
   ]
  },
  {
   "cell_type": "code",
   "execution_count": 2,
   "id": "0d82b472",
   "metadata": {},
   "outputs": [
    {
     "data": {
      "text/plain": [
       "True"
      ]
     },
     "execution_count": 2,
     "metadata": {},
     "output_type": "execute_result"
    }
   ],
   "source": [
    "import os\n",
    "from enum import Enum\n",
    "import seaborn as sns\n",
    "from pydantic import BaseModel\n",
    "from dotenv import load_dotenv\n",
    "import numpy as np # alias\n",
    "import openai, groq\n",
    "import pandas as pd # alias\n",
    "\n",
    "load_dotenv()"
   ]
  },
  {
   "cell_type": "markdown",
   "id": "7ebdfd7a",
   "metadata": {},
   "source": [
    "### 2. Basic Information"
   ]
  },
  {
   "cell_type": "code",
   "execution_count": 3,
   "id": "664d29bb",
   "metadata": {},
   "outputs": [
    {
     "data": {
      "text/html": [
       "<div>\n",
       "<style scoped>\n",
       "    .dataframe tbody tr th:only-of-type {\n",
       "        vertical-align: middle;\n",
       "    }\n",
       "\n",
       "    .dataframe tbody tr th {\n",
       "        vertical-align: top;\n",
       "    }\n",
       "\n",
       "    .dataframe thead th {\n",
       "        text-align: right;\n",
       "    }\n",
       "</style>\n",
       "<table border=\"1\" class=\"dataframe\">\n",
       "  <thead>\n",
       "    <tr style=\"text-align: right;\">\n",
       "      <th></th>\n",
       "      <th>RowNumber</th>\n",
       "      <th>CustomerId</th>\n",
       "      <th>Firstname</th>\n",
       "      <th>Lastname</th>\n",
       "      <th>CreditScore</th>\n",
       "      <th>Geography</th>\n",
       "      <th>Gender</th>\n",
       "      <th>Age</th>\n",
       "      <th>Tenure</th>\n",
       "      <th>Balance</th>\n",
       "      <th>NumOfProducts</th>\n",
       "      <th>HasCrCard</th>\n",
       "      <th>IsActiveMember</th>\n",
       "      <th>EstimatedSalary</th>\n",
       "      <th>Exited</th>\n",
       "    </tr>\n",
       "  </thead>\n",
       "  <tbody>\n",
       "    <tr>\n",
       "      <th>0</th>\n",
       "      <td>1</td>\n",
       "      <td>15634602</td>\n",
       "      <td>Grace</td>\n",
       "      <td>Williams</td>\n",
       "      <td>619</td>\n",
       "      <td>France</td>\n",
       "      <td>Female</td>\n",
       "      <td>42.0</td>\n",
       "      <td>2</td>\n",
       "      <td>0.00</td>\n",
       "      <td>1</td>\n",
       "      <td>1</td>\n",
       "      <td>1</td>\n",
       "      <td>101348.88</td>\n",
       "      <td>1</td>\n",
       "    </tr>\n",
       "    <tr>\n",
       "      <th>1</th>\n",
       "      <td>2</td>\n",
       "      <td>15647311</td>\n",
       "      <td>David</td>\n",
       "      <td>Jones</td>\n",
       "      <td>608</td>\n",
       "      <td>Spain</td>\n",
       "      <td>Female</td>\n",
       "      <td>41.0</td>\n",
       "      <td>1</td>\n",
       "      <td>83807.86</td>\n",
       "      <td>1</td>\n",
       "      <td>0</td>\n",
       "      <td>1</td>\n",
       "      <td>112542.58</td>\n",
       "      <td>0</td>\n",
       "    </tr>\n",
       "    <tr>\n",
       "      <th>2</th>\n",
       "      <td>3</td>\n",
       "      <td>15619304</td>\n",
       "      <td>Hank</td>\n",
       "      <td>Williams</td>\n",
       "      <td>502</td>\n",
       "      <td>France</td>\n",
       "      <td>Female</td>\n",
       "      <td>42.0</td>\n",
       "      <td>8</td>\n",
       "      <td>159660.80</td>\n",
       "      <td>3</td>\n",
       "      <td>1</td>\n",
       "      <td>0</td>\n",
       "      <td>113931.57</td>\n",
       "      <td>1</td>\n",
       "    </tr>\n",
       "    <tr>\n",
       "      <th>3</th>\n",
       "      <td>4</td>\n",
       "      <td>15701354</td>\n",
       "      <td>Eva</td>\n",
       "      <td>Taylor</td>\n",
       "      <td>699</td>\n",
       "      <td>France</td>\n",
       "      <td>Female</td>\n",
       "      <td>NaN</td>\n",
       "      <td>1</td>\n",
       "      <td>0.00</td>\n",
       "      <td>2</td>\n",
       "      <td>0</td>\n",
       "      <td>0</td>\n",
       "      <td>93826.63</td>\n",
       "      <td>0</td>\n",
       "    </tr>\n",
       "    <tr>\n",
       "      <th>4</th>\n",
       "      <td>5</td>\n",
       "      <td>15737888</td>\n",
       "      <td>Grace</td>\n",
       "      <td>Miller</td>\n",
       "      <td>850</td>\n",
       "      <td>Spain</td>\n",
       "      <td>Female</td>\n",
       "      <td>43.0</td>\n",
       "      <td>2</td>\n",
       "      <td>125510.82</td>\n",
       "      <td>1</td>\n",
       "      <td>1</td>\n",
       "      <td>1</td>\n",
       "      <td>79084.10</td>\n",
       "      <td>0</td>\n",
       "    </tr>\n",
       "  </tbody>\n",
       "</table>\n",
       "</div>"
      ],
      "text/plain": [
       "   RowNumber  CustomerId Firstname  Lastname  CreditScore Geography  Gender  \\\n",
       "0          1    15634602     Grace  Williams          619    France  Female   \n",
       "1          2    15647311     David     Jones          608     Spain  Female   \n",
       "2          3    15619304      Hank  Williams          502    France  Female   \n",
       "3          4    15701354       Eva    Taylor          699    France  Female   \n",
       "4          5    15737888     Grace    Miller          850     Spain  Female   \n",
       "\n",
       "    Age  Tenure    Balance  NumOfProducts  HasCrCard  IsActiveMember  \\\n",
       "0  42.0       2       0.00              1          1               1   \n",
       "1  41.0       1   83807.86              1          0               1   \n",
       "2  42.0       8  159660.80              3          1               0   \n",
       "3   NaN       1       0.00              2          0               0   \n",
       "4  43.0       2  125510.82              1          1               1   \n",
       "\n",
       "   EstimatedSalary  Exited  \n",
       "0        101348.88       1  \n",
       "1        112542.58       0  \n",
       "2        113931.57       1  \n",
       "3         93826.63       0  \n",
       "4         79084.10       0  "
      ]
     },
     "execution_count": 3,
     "metadata": {},
     "output_type": "execute_result"
    }
   ],
   "source": [
    "df = pd.read_csv('data/raw/ChurnModelling.csv')\n",
    "df.head()"
   ]
  },
  {
   "cell_type": "code",
   "execution_count": 4,
   "id": "6528fd64",
   "metadata": {},
   "outputs": [
    {
     "data": {
      "text/plain": [
       "RowNumber            0\n",
       "CustomerId           0\n",
       "Firstname            7\n",
       "Lastname             6\n",
       "CreditScore          0\n",
       "Geography            0\n",
       "Gender             108\n",
       "Age                600\n",
       "Tenure               0\n",
       "Balance              0\n",
       "NumOfProducts        0\n",
       "HasCrCard            0\n",
       "IsActiveMember       0\n",
       "EstimatedSalary      0\n",
       "Exited               0\n",
       "dtype: int64"
      ]
     },
     "execution_count": 4,
     "metadata": {},
     "output_type": "execute_result"
    }
   ],
   "source": [
    "df.isnull().sum()"
   ]
  },
  {
   "cell_type": "markdown",
   "id": "bf8e7111",
   "metadata": {},
   "source": [
    "### 3. Handling Missing Values"
   ]
  },
  {
   "cell_type": "markdown",
   "id": "a690c464",
   "metadata": {},
   "source": [
    "#### 3.1 Imputation"
   ]
  },
  {
   "cell_type": "markdown",
   "id": "21c60751",
   "metadata": {},
   "source": [
    "The possible ways to do this are:\n",
    "\n",
    "- Filling the missing data with the mean or median value if it’s a numerical variable.\n",
    "- Filling the missing data with mode if it’s a categorical value.\n",
    "- Filling the numerical value with 0 or -999, or some other number that will not occur in the data. This can be done so that the machine can recognize that the data is not real or is different.\n",
    "- Filling the categorical value with a new type for the missing values."
   ]
  },
  {
   "cell_type": "markdown",
   "id": "66ec7e8e",
   "metadata": {},
   "source": [
    "##### 3.2.1 Age"
   ]
  },
  {
   "cell_type": "code",
   "execution_count": 9,
   "id": "66c635cd",
   "metadata": {},
   "outputs": [],
   "source": [
    "mean = df['Age'].mean()\n",
    "meadian = df['Age'].median()\n",
    "mean = round(mean,2)"
   ]
  },
  {
   "cell_type": "code",
   "execution_count": 10,
   "id": "67ea1dbd",
   "metadata": {},
   "outputs": [
    {
     "data": {
      "text/plain": [
       "<Axes: xlabel='Age', ylabel='Count'>"
      ]
     },
     "execution_count": 10,
     "metadata": {},
     "output_type": "execute_result"
    },
    {
     "data": {
      "image/png": "[encoded data removed]",
      "text/plain": [
       "<Figure size 640x480 with 1 Axes>"
      ]
     },
     "metadata": {},
     "output_type": "display_data"
    }
   ],
   "source": [
    "sns.histplot(df['Age'])"
   ]
  },
  {
   "cell_type": "code",
   "execution_count": 11,
   "id": "759545d8",
   "metadata": {},
   "outputs": [],
   "source": [
    "df_impute = df.copy()"
   ]
  },
  {
   "cell_type": "code",
   "execution_count": 12,
   "id": "198ca2fc",
   "metadata": {},
   "outputs": [],
   "source": [
    "df_impute.loc[:,'Age'] = df_impute['Age'].fillna(mean)"
   ]
  },
  {
   "cell_type": "code",
   "execution_count": 15,
   "id": "e2eeef64",
   "metadata": {},
   "outputs": [
    {
     "data": {
      "text/plain": [
       "RowNumber            0\n",
       "CustomerId           0\n",
       "Firstname            7\n",
       "Lastname             6\n",
       "CreditScore          0\n",
       "Geography            0\n",
       "Gender             108\n",
       "Age                  0\n",
       "Tenure               0\n",
       "Balance              0\n",
       "NumOfProducts        0\n",
       "HasCrCard            0\n",
       "IsActiveMember       0\n",
       "EstimatedSalary      0\n",
       "Exited               0\n",
       "dtype: int64"
      ]
     },
     "execution_count": 15,
     "metadata": {},
     "output_type": "execute_result"
    }
   ],
   "source": [
    "df_impute.isnull().sum()"
   ]
  },
  {
   "cell_type": "markdown",
   "id": "c3202855",
   "metadata": {},
   "source": [
    "##### 3.2.2 Gender"
   ]
  },
  {
   "cell_type": "code",
   "execution_count": 21,
   "id": "27d42aea",
   "metadata": {},
   "outputs": [],
   "source": [
    "class Gender(Enum):\n",
    "    MALE = \"Male\"\n",
    "    FEMALE = \"Female\"\n",
    "\n",
    "class GenderPrediction(BaseModel):\n",
    "    firstname:str\n",
    "    lastname:str\n",
    "    pred_gender:Gender\n",
    "\n",
    "def predict_gender(\n",
    "                firstname: str,\n",
    "                lastname: str\n",
    "                ):\n",
    "    prompt = f\"\"\"\n",
    "                What is the most likely gender (Male or Female) for someone with the first name '{firstname}'\n",
    "                and last name '{lastname}' ?\n",
    "\n",
    "                Your response only consists of one word: Male or Female\n",
    "                \"\"\"\n",
    "    \n",
    "    response = groq.Groq().chat.completions.create(\n",
    "                                                    model=\"llama-3.3-70b-versatile\",\n",
    "                                                    messages=[{\n",
    "                                                                \"role\": \"user\",\n",
    "                                                                \"content\": prompt\n",
    "                                                            }]\n",
    "                                                    )\n",
    "    predicted_gender = response.choices[0].message.content.strip()\n",
    "    prediction = GenderPrediction(\n",
    "                                firstname=firstname ,\n",
    "                                lastname=lastname,\n",
    "                                pred_gender=predicted_gender\n",
    "                                )\n",
    "    return prediction.pred_gender"
   ]
  },
  {
   "cell_type": "code",
   "execution_count": 24,
   "id": "3ba72799",
   "metadata": {},
   "outputs": [
    {
     "data": {
      "text/plain": [
       "<Gender.MALE: 'Male'>"
      ]
     },
     "execution_count": 24,
     "metadata": {},
     "output_type": "execute_result"
    }
   ],
   "source": [
    "predict_gender(\"dinod\",\"Imanjith\")"
   ]
  },
  {
   "cell_type": "code",
   "execution_count": 28,
   "id": "82e1b946",
   "metadata": {},
   "outputs": [
    {
     "name": "stdout",
     "output_type": "stream",
     "text": [
      "Eva Wilson : Gender.FEMALE\n",
      "Ivy Johnson : Gender.FEMALE\n",
      "David Taylor : Gender.MALE\n",
      "Frank Davis : Gender.MALE\n",
      "Jack Wilson : Gender.MALE\n",
      "David Miller : Gender.MALE\n",
      "Eva Taylor : Gender.FEMALE\n",
      "Grace Johnson : Gender.FEMALE\n",
      "Hank Miller : Gender.MALE\n",
      "Frank Williams : Gender.MALE\n",
      "Alice Davis : Gender.FEMALE\n",
      "Alice Brown : Gender.FEMALE\n",
      "Alice Garcia : Gender.FEMALE\n",
      "Bob Jones : Gender.MALE\n",
      "Jack Davis : Gender.MALE\n",
      "Grace Williams : Gender.FEMALE\n",
      "Ivy Jones : Gender.FEMALE\n",
      "David Smith : Gender.MALE\n",
      "David Miller : Gender.MALE\n",
      "Eva Williams : Gender.FEMALE\n",
      "Frank Garcia : Gender.MALE\n",
      "Alice Wilson : Gender.FEMALE\n",
      "Carol Jones : Gender.FEMALE\n",
      "Hank Davis : Gender.MALE\n",
      "Ivy Williams : Gender.FEMALE\n",
      "Hank Smith : Gender.MALE\n",
      "Ivy Jones : Gender.FEMALE\n",
      "Alice Brown : Gender.FEMALE\n",
      "Eva Taylor : Gender.FEMALE\n",
      "Carol Williams : Gender.FEMALE\n",
      "Jack Williams : Gender.MALE\n",
      "Ivy Brown : Gender.FEMALE\n",
      "David Brown : Gender.MALE\n",
      "Bob Smith : Gender.MALE\n",
      "Frank Wilson : Gender.MALE\n",
      "Bob Williams : Gender.MALE\n",
      "Ivy Johnson : Gender.FEMALE\n",
      "Jack Taylor : Gender.MALE\n",
      "David Davis : Gender.MALE\n",
      "David Garcia : Gender.MALE\n",
      "Eva Brown : Gender.FEMALE\n",
      "Frank Wilson : Gender.MALE\n",
      "Jack Davis : Gender.MALE\n",
      "Eva Miller : Gender.FEMALE\n",
      "Grace Williams : Gender.FEMALE\n",
      "Bob Jones : Gender.MALE\n",
      "David Taylor : Gender.MALE\n",
      "Frank Smith : Gender.MALE\n",
      "Ivy Jones : Gender.FEMALE\n",
      "David Williams : Gender.MALE\n",
      "Grace Jones : Gender.FEMALE\n",
      "Grace Miller : Gender.FEMALE\n",
      "Bob Taylor : Gender.MALE\n",
      "Grace Miller : Gender.FEMALE\n",
      "Bob Taylor : Gender.MALE\n",
      "Hank Jones : Gender.MALE\n",
      "Hank Wilson : Gender.MALE\n",
      "Grace Smith : Gender.FEMALE\n",
      "Bob Johnson : Gender.MALE\n",
      "Hank Brown : Gender.MALE\n",
      "Carol Jones : Gender.FEMALE\n",
      "Hank Williams : Gender.MALE\n",
      "Hank Miller : Gender.MALE\n",
      "Frank Davis : Gender.MALE\n",
      "Ivy Wilson : Gender.FEMALE\n",
      "Hank Jones : Gender.MALE\n",
      "Bob Jones : Gender.MALE\n",
      "Frank Brown : Gender.MALE\n",
      "Frank Smith : Gender.MALE\n",
      "Bob Taylor : Gender.MALE\n",
      "Alice Johnson : Gender.FEMALE\n",
      "Ivy Wilson : Gender.FEMALE\n",
      "Grace Brown : Gender.FEMALE\n",
      "Eva Davis : Gender.FEMALE\n",
      "Eva Wilson : Gender.FEMALE\n",
      "Frank Miller : Gender.MALE\n",
      "David Miller : Gender.MALE\n",
      "Carol Brown : Gender.FEMALE\n",
      "Eva Miller : Gender.FEMALE\n",
      "Alice Garcia : Gender.FEMALE\n",
      "Carol Davis : Gender.FEMALE\n",
      "Frank Smith : Gender.MALE\n",
      "Ivy Miller : Gender.FEMALE\n",
      "Bob Garcia : Gender.MALE\n",
      "Alice Garcia : Gender.FEMALE\n",
      "Frank Smith : Gender.MALE\n",
      "Grace Johnson : Gender.FEMALE\n",
      "Eva Garcia : Gender.FEMALE\n",
      "Alice Jones : Gender.FEMALE\n",
      "David Wilson : Gender.MALE\n",
      "Ivy Garcia : Gender.FEMALE\n",
      "Frank Wilson : Gender.MALE\n",
      "Frank Wilson : Gender.MALE\n",
      "Bob Williams : Gender.MALE\n",
      "Ivy Johnson : Gender.FEMALE\n",
      "David Brown : Gender.MALE\n",
      "Ivy Miller : Gender.FEMALE\n",
      "Carol Smith : Gender.FEMALE\n",
      "David Williams : Gender.MALE\n",
      "Hank Williams : Gender.MALE\n",
      "David Brown : Gender.MALE\n",
      "Carol Garcia : Gender.FEMALE\n",
      "Hank Miller : Gender.MALE\n",
      "Grace Wilson : Gender.FEMALE\n",
      "Hank Johnson : Gender.MALE\n",
      "Grace Jones : Gender.FEMALE\n",
      "Alice Davis : Gender.FEMALE\n",
      "Jack Brown : Gender.MALE\n"
     ]
    }
   ],
   "source": [
    "missing_gender_index = df['Gender'].isnull()\n",
    "for index in df_impute[missing_gender_index].index:\n",
    "    firstName = df_impute.loc[index,'Firstname']\n",
    "    lastName = df_impute.loc[index,'Lastname']\n",
    "    gender = predict_gender(firstName, lastName)\n",
    "    \n",
    "    if gender:\n",
    "        df_impute.loc[index, 'Gender'] = gender\n",
    "        print(f\"{firstName} {lastName} : {gender}\")\n",
    "    else:\n",
    "        print(f\"{firstName} {lastName} : No Gender Detected\")"
   ]
  },
  {
   "cell_type": "code",
   "execution_count": 38,
   "id": "33d5e298",
   "metadata": {},
   "outputs": [
    {
     "data": {
      "text/plain": [
       "RowNumber          0\n",
       "CustomerId         0\n",
       "Firstname          7\n",
       "Lastname           6\n",
       "CreditScore        0\n",
       "Geography          0\n",
       "Gender             0\n",
       "Age                0\n",
       "Tenure             0\n",
       "Balance            0\n",
       "NumOfProducts      0\n",
       "HasCrCard          0\n",
       "IsActiveMember     0\n",
       "EstimatedSalary    0\n",
       "Exited             0\n",
       "dtype: int64"
      ]
     },
     "execution_count": 38,
     "metadata": {},
     "output_type": "execute_result"
    }
   ],
   "source": [
    "df_impute.isnull().sum()"
   ]
  },
  {
   "cell_type": "code",
   "execution_count": 39,
   "id": "cdfd4d1a",
   "metadata": {},
   "outputs": [],
   "source": [
    "df_impute= df_impute.drop(\n",
    "    columns=[\n",
    "        'RowNumber',\n",
    "        'CustomerId',\n",
    "        'Firstname',\n",
    "        'Lastname'\n",
    "    ]\n",
    ")"
   ]
  },
  {
   "cell_type": "code",
   "execution_count": 40,
   "id": "c26b9238",
   "metadata": {},
   "outputs": [
    {
     "data": {
      "text/html": [
       "<div>\n",
       "<style scoped>\n",
       "    .dataframe tbody tr th:only-of-type {\n",
       "        vertical-align: middle;\n",
       "    }\n",
       "\n",
       "    .dataframe tbody tr th {\n",
       "        vertical-align: top;\n",
       "    }\n",
       "\n",
       "    .dataframe thead th {\n",
       "        text-align: right;\n",
       "    }\n",
       "</style>\n",
       "<table border=\"1\" class=\"dataframe\">\n",
       "  <thead>\n",
       "    <tr style=\"text-align: right;\">\n",
       "      <th></th>\n",
       "      <th>CreditScore</th>\n",
       "      <th>Geography</th>\n",
       "      <th>Gender</th>\n",
       "      <th>Age</th>\n",
       "      <th>Tenure</th>\n",
       "      <th>Balance</th>\n",
       "      <th>NumOfProducts</th>\n",
       "      <th>HasCrCard</th>\n",
       "      <th>IsActiveMember</th>\n",
       "      <th>EstimatedSalary</th>\n",
       "      <th>Exited</th>\n",
       "    </tr>\n",
       "  </thead>\n",
       "  <tbody>\n",
       "    <tr>\n",
       "      <th>0</th>\n",
       "      <td>619</td>\n",
       "      <td>France</td>\n",
       "      <td>Female</td>\n",
       "      <td>42.00</td>\n",
       "      <td>2</td>\n",
       "      <td>0.00</td>\n",
       "      <td>1</td>\n",
       "      <td>1</td>\n",
       "      <td>1</td>\n",
       "      <td>101348.88</td>\n",
       "      <td>1</td>\n",
       "    </tr>\n",
       "    <tr>\n",
       "      <th>1</th>\n",
       "      <td>608</td>\n",
       "      <td>Spain</td>\n",
       "      <td>Female</td>\n",
       "      <td>41.00</td>\n",
       "      <td>1</td>\n",
       "      <td>83807.86</td>\n",
       "      <td>1</td>\n",
       "      <td>0</td>\n",
       "      <td>1</td>\n",
       "      <td>112542.58</td>\n",
       "      <td>0</td>\n",
       "    </tr>\n",
       "    <tr>\n",
       "      <th>2</th>\n",
       "      <td>502</td>\n",
       "      <td>France</td>\n",
       "      <td>Female</td>\n",
       "      <td>42.00</td>\n",
       "      <td>8</td>\n",
       "      <td>159660.80</td>\n",
       "      <td>3</td>\n",
       "      <td>1</td>\n",
       "      <td>0</td>\n",
       "      <td>113931.57</td>\n",
       "      <td>1</td>\n",
       "    </tr>\n",
       "    <tr>\n",
       "      <th>3</th>\n",
       "      <td>699</td>\n",
       "      <td>France</td>\n",
       "      <td>Female</td>\n",
       "      <td>38.91</td>\n",
       "      <td>1</td>\n",
       "      <td>0.00</td>\n",
       "      <td>2</td>\n",
       "      <td>0</td>\n",
       "      <td>0</td>\n",
       "      <td>93826.63</td>\n",
       "      <td>0</td>\n",
       "    </tr>\n",
       "    <tr>\n",
       "      <th>4</th>\n",
       "      <td>850</td>\n",
       "      <td>Spain</td>\n",
       "      <td>Female</td>\n",
       "      <td>43.00</td>\n",
       "      <td>2</td>\n",
       "      <td>125510.82</td>\n",
       "      <td>1</td>\n",
       "      <td>1</td>\n",
       "      <td>1</td>\n",
       "      <td>79084.10</td>\n",
       "      <td>0</td>\n",
       "    </tr>\n",
       "  </tbody>\n",
       "</table>\n",
       "</div>"
      ],
      "text/plain": [
       "   CreditScore Geography  Gender    Age  Tenure    Balance  NumOfProducts  \\\n",
       "0          619    France  Female  42.00       2       0.00              1   \n",
       "1          608     Spain  Female  41.00       1   83807.86              1   \n",
       "2          502    France  Female  42.00       8  159660.80              3   \n",
       "3          699    France  Female  38.91       1       0.00              2   \n",
       "4          850     Spain  Female  43.00       2  125510.82              1   \n",
       "\n",
       "   HasCrCard  IsActiveMember  EstimatedSalary  Exited  \n",
       "0          1               1        101348.88       1  \n",
       "1          0               1        112542.58       0  \n",
       "2          1               0        113931.57       1  \n",
       "3          0               0         93826.63       0  \n",
       "4          1               1         79084.10       0  "
      ]
     },
     "execution_count": 40,
     "metadata": {},
     "output_type": "execute_result"
    }
   ],
   "source": [
    "df_impute.head()"
   ]
  },
  {
   "cell_type": "code",
   "execution_count": 42,
   "id": "7611c639",
   "metadata": {},
   "outputs": [],
   "source": [
    "# saving handled data set\n",
    "df_impute.to_csv(\n",
    "                'data/processed/ChurnModelling_Missing_Values_Handled.csv', \n",
    "                index=False\n",
    "                )"
   ]
  },
  {
   "cell_type": "code",
   "execution_count": null,
   "id": "6bf9f582",
   "metadata": {},
   "outputs": [],
   "source": []
  }
 ],
 "metadata": {
  "kernelspec": {
   "display_name": "bprm",
   "language": "python",
   "name": "python3"
  },
  "language_info": {
   "codemirror_mode": {
    "name": "ipython",
    "version": 3
   },
   "file_extension": ".py",
   "mimetype": "text/x-python",
   "name": "python",
   "nbconvert_exporter": "python",
   "pygments_lexer": "ipython3",
   "version": "3.13.3"
  }
 },
 "nbformat": 4,
 "nbformat_minor": 5
}

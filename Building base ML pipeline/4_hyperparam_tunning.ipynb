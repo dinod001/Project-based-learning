{
 "cells": [
  {
   "cell_type": "code",
   "execution_count": 1,
   "id": "32fb7eb2",
   "metadata": {},
   "outputs": [],
   "source": [
    "import joblib\n",
    "import warnings\n",
    "import numpy as np\n",
    "import pandas as pd\n",
    "import seaborn as sns\n",
    "import matplotlib.pyplot as plt\n",
    "from sklearn.ensemble import RandomForestClassifier\n",
    "from sklearn.linear_model import LogisticRegression\n",
    "from sklearn.tree import DecisionTreeClassifier\n",
    "from sklearn.model_selection import (\n",
    "                                    StratifiedKFold, \n",
    "                                    GridSearchCV\n",
    "                                    )\n",
    "from sklearn.metrics import confusion_matrix\n",
    "warnings.filterwarnings('ignore')"
   ]
  },
  {
   "cell_type": "markdown",
   "id": "be45e53d",
   "metadata": {},
   "source": [
    "### 1. Load the data"
   ]
  },
  {
   "cell_type": "code",
   "execution_count": 2,
   "id": "9f8af439",
   "metadata": {},
   "outputs": [],
   "source": [
    "X_train = np.load('artifacts/X_train.npz')['arr_0']\n",
    "Y_train = np.load('artifacts/Y_train.npz')['arr_0']\n",
    "X_test = np.load('artifacts/X_test.npz')['arr_0']\n",
    "Y_test = np.load('artifacts/Y_test.npz')['arr_0']"
   ]
  },
  {
   "cell_type": "markdown",
   "id": "0f109889",
   "metadata": {},
   "source": [
    "### 2. Define Paramters"
   ]
  },
  {
   "cell_type": "code",
   "execution_count": 3,
   "id": "0b55c058",
   "metadata": {},
   "outputs": [],
   "source": [
    "lr_param_grid = {\n",
    "                'max_iter' : [1000, 5000, 10000]\n",
    "                }\n",
    "dt_param_grid = {\n",
    "                'max_depth' : [8, 12, 16, 20],\n",
    "                'criterion' : [\"gini\", \"entropy\", \"log_loss\"]\n",
    "                }\n",
    "rf_param_grid = {\n",
    "                'n_estimators' : [100],\n",
    "                'max_depth' : [8, 12],\n",
    "                'criterion' : [\"gini\", \"entropy\", \"log_loss\"]\n",
    "                }\n",
    "\n",
    "param_grids = {\n",
    "            'Logistic Regression' : lr_param_grid,\n",
    "            'Decision Tree' : dt_param_grid,\n",
    "            'Random Forest' : rf_param_grid,\n",
    "}"
   ]
  },
  {
   "cell_type": "markdown",
   "id": "6cc9b2b2",
   "metadata": {},
   "source": [
    "### 3. Define Multi Models"
   ]
  },
  {
   "cell_type": "code",
   "execution_count": 4,
   "id": "f00aa297",
   "metadata": {},
   "outputs": [],
   "source": [
    "models = {\n",
    "        'Logistic Regression' : LogisticRegression(),\n",
    "        'Decision Tree' :DecisionTreeClassifier(),\n",
    "        'Random Forest' : RandomForestClassifier()\n",
    "        }"
   ]
  },
  {
   "cell_type": "markdown",
   "id": "5d9b0ac4",
   "metadata": {},
   "source": [
    "### 4. Configure K-Fold CV"
   ]
  },
  {
   "cell_type": "code",
   "execution_count": 5,
   "id": "54fa0a36",
   "metadata": {},
   "outputs": [],
   "source": [
    "cv = StratifiedKFold(\n",
    "                    n_splits=6,\n",
    "                    random_state=42,\n",
    "                    shuffle=True\n",
    "                    )"
   ]
  },
  {
   "cell_type": "markdown",
   "id": "01e4a8f3",
   "metadata": {},
   "source": [
    "### 5. Multi Model Training"
   ]
  },
  {
   "cell_type": "code",
   "execution_count": 6,
   "id": "a2faa8d7",
   "metadata": {},
   "outputs": [
    {
     "name": "stdout",
     "output_type": "stream",
     "text": [
      "\n",
      "--- Tuning Logistic Regression ---\n",
      "Fitting gridSearchCV for Logistic Regression\n",
      "Fitting 6 folds for each of 3 candidates, totalling 18 fits\n",
      "Logistic Regression gridSearchCV completed ...\n",
      "Best parameters: {'max_iter': 1000}\n",
      "Best CV score: 0.7155921387324043\n",
      "\n",
      "--- Tuning Decision Tree ---\n",
      "Fitting gridSearchCV for Decision Tree\n",
      "Fitting 6 folds for each of 12 candidates, totalling 72 fits\n",
      "Decision Tree gridSearchCV completed ...\n",
      "Best parameters: {'criterion': 'entropy', 'max_depth': 16}\n",
      "Best CV score: 0.8367682495707087\n",
      "\n",
      "--- Tuning Random Forest ---\n",
      "Fitting gridSearchCV for Random Forest\n",
      "Fitting 6 folds for each of 6 candidates, totalling 36 fits\n",
      "Random Forest gridSearchCV completed ...\n",
      "Best parameters: {'criterion': 'gini', 'max_depth': 12, 'n_estimators': 100}\n",
      "Best CV score: 0.8726052628973046\n"
     ]
    }
   ],
   "source": [
    "grid_search_results={}\n",
    "for model_name, model in models.items():\n",
    "\n",
    "    print(f\"\\n--- Tuning {model_name} ---\")\n",
    "\n",
    "    param_grid = param_grids[model_name]\n",
    "\n",
    "    grid_search = GridSearchCV(\n",
    "                                estimator=model,\n",
    "                                param_grid=param_grid,\n",
    "                                cv=cv, scoring='f1',\n",
    "                                verbose=1, return_train_score=False\n",
    "                                )\n",
    "    \n",
    "    print(f\"Fitting gridSearchCV for {model_name}\")\n",
    "\n",
    "    grid_search.fit(X_train, Y_train)\n",
    "\n",
    "    grid_search_results[model_name] = grid_search\n",
    "    \n",
    "    print(f\"{model_name} gridSearchCV completed ...\")\n",
    "    print(f\"Best parameters: {grid_search.best_params_}\")\n",
    "    print(f\"Best CV score: {grid_search.best_score_}\")"
   ]
  },
  {
   "cell_type": "code",
   "execution_count": 7,
   "id": "a2bea07d",
   "metadata": {},
   "outputs": [
    {
     "data": {
      "text/plain": [
       "{'Logistic Regression': GridSearchCV(cv=StratifiedKFold(n_splits=6, random_state=42, shuffle=True),\n",
       "              estimator=LogisticRegression(),\n",
       "              param_grid={'max_iter': [1000, 5000, 10000]}, scoring='f1',\n",
       "              verbose=1),\n",
       " 'Decision Tree': GridSearchCV(cv=StratifiedKFold(n_splits=6, random_state=42, shuffle=True),\n",
       "              estimator=DecisionTreeClassifier(),\n",
       "              param_grid={'criterion': ['gini', 'entropy', 'log_loss'],\n",
       "                          'max_depth': [8, 12, 16, 20]},\n",
       "              scoring='f1', verbose=1),\n",
       " 'Random Forest': GridSearchCV(cv=StratifiedKFold(n_splits=6, random_state=42, shuffle=True),\n",
       "              estimator=RandomForestClassifier(),\n",
       "              param_grid={'criterion': ['gini', 'entropy', 'log_loss'],\n",
       "                          'max_depth': [8, 12], 'n_estimators': [100]},\n",
       "              scoring='f1', verbose=1)}"
      ]
     },
     "execution_count": 7,
     "metadata": {},
     "output_type": "execute_result"
    }
   ],
   "source": [
    "grid_search_results\n"
   ]
  },
  {
   "cell_type": "code",
   "execution_count": null,
   "id": "4898f7a8",
   "metadata": {},
   "outputs": [],
   "source": []
  }
 ],
 "metadata": {
  "kernelspec": {
   "display_name": "bprm",
   "language": "python",
   "name": "python3"
  },
  "language_info": {
   "codemirror_mode": {
    "name": "ipython",
    "version": 3
   },
   "file_extension": ".py",
   "mimetype": "text/x-python",
   "name": "python",
   "nbconvert_exporter": "python",
   "pygments_lexer": "ipython3",
   "version": "3.13.3"
  }
 },
 "nbformat": 4,
 "nbformat_minor": 5
}
